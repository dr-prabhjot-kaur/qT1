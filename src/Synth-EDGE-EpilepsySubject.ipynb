{
 "cells": [
  {
   "cell_type": "code",
   "execution_count": null,
   "metadata": {},
   "outputs": [],
   "source": [
    "import os\n",
    "import sys\n",
    "import numpy as np\n",
    "import argparse\n",
    "import time\n",
    "        \n",
    "import SimpleITK as sitk\n",
    "from scipy.io import loadmat\n",
    "from scipy.optimize import least_squares, curve_fit, leastsq, root\n",
    "from scipy.special import huber\n",
    "from numpy.fft import fftn, ifftn\n",
    "#from tqdm import trange, tqdm\n",
    "from functools import partial\n",
    "from multiprocessing import Pool, Lock, cpu_count, current_process\n",
    "from multiprocessing.shared_memory import SharedMemory #V3.8+ only\n",
    "\n",
    "import warnings\n",
    "from sklearn.mixture import GaussianMixture\n",
    "from scipy.stats import mode\n",
    "import ants\n",
    "\n",
    "from Synth_EDGE_utils import *\n"
   ]
  },
  {
   "cell_type": "code",
   "execution_count": 1,
   "metadata": {},
   "outputs": [],
   "source": [
    "# Estimate T1 map for PSIR images\n"
   ]
  },
  {
   "cell_type": "code",
   "execution_count": 2,
   "metadata": {},
   "outputs": [],
   "source": [
    "# Estimate the 3D EDGE"
   ]
  },
  {
   "cell_type": "code",
   "execution_count": 3,
   "metadata": {},
   "outputs": [],
   "source": [
    "# Estimate the T1 thresholds and apply the thresholds"
   ]
  },
  {
   "cell_type": "code",
   "execution_count": 4,
   "metadata": {},
   "outputs": [],
   "source": [
    "# Remove the un connected and lines in boundaries\n"
   ]
  },
  {
   "cell_type": "code",
   "execution_count": null,
   "metadata": {},
   "outputs": [],
   "source": []
  }
 ],
 "metadata": {
  "kernelspec": {
   "display_name": "Python 3",
   "language": "python",
   "name": "python3"
  },
  "language_info": {
   "codemirror_mode": {
    "name": "ipython",
    "version": 3
   },
   "file_extension": ".py",
   "mimetype": "text/x-python",
   "name": "python",
   "nbconvert_exporter": "python",
   "pygments_lexer": "ipython3",
   "version": "3.10.6"
  },
  "orig_nbformat": 4,
  "vscode": {
   "interpreter": {
    "hash": "916dbcbb3f70747c44a77c7bcd40155683ae19c65e1c03b4aa3499c5328201f1"
   }
  }
 },
 "nbformat": 4,
 "nbformat_minor": 2
}
